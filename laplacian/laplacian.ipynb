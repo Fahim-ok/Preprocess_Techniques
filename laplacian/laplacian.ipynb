{
 "cells": [
  {
   "cell_type": "code",
   "execution_count": null,
   "id": "6ad5bac2",
   "metadata": {},
   "outputs": [],
   "source": [
    "import cv2\n",
    "import numpy as np\n",
    "\n",
    "# Load the image from the dataset\n",
    "image = cv2.imread(\"E:/Desktop/test-image/laplacian/9919646L.png\", cv2.IMREAD_COLOR)\n",
    "\n",
    "# Convert the image to grayscale\n",
    "gray = cv2.cvtColor(image, cv2.COLOR_BGR2GRAY)\n",
    "\n",
    "# Apply Laplacian sharpening\n",
    "laplacian = cv2.Laplacian(gray, cv2.CV_64F)\n",
    "sharpened_image = np.uint8(np.clip(gray - 0.5 * laplacian, 0, 255))\n",
    "\n",
    "# Apply unsharp masking\n",
    "blurred = cv2.GaussianBlur(gray, (0, 0), 3)\n",
    "unsharp_mask = cv2.addWeighted(gray, 2, blurred, -1, 0)\n",
    "sharpened_image = np.uint8(np.clip(unsharp_mask, 0, 255))\n",
    "\n",
    "# Apply high-pass filtering\n",
    "kernel = np.array([[0, -1, 0], [-1, 5, -1], [0, -1, 0]], dtype=np.float32)\n",
    "filtered_image = cv2.filter2D(gray, -1, kernel)\n",
    "\n",
    "# Display the original and processed images\n",
    "cv2.imshow(\"Original Image\", image)\n",
    "cv2.imshow(\"Laplacian Sharpening\", sharpened_image)\n",
    "cv2.imshow(\"Unsharp Masking\", sharpened_image)\n",
    "cv2.imshow(\"High-Pass Filtering\", filtered_image)\n",
    "cv2.waitKey(0)\n",
    "cv2.destroyAllWindows()\n"
   ]
  },
  {
   "cell_type": "code",
   "execution_count": null,
   "id": "292c0f54",
   "metadata": {},
   "outputs": [],
   "source": []
  }
 ],
 "metadata": {
  "kernelspec": {
   "display_name": "Python 3 (ipykernel)",
   "language": "python",
   "name": "python3"
  },
  "language_info": {
   "codemirror_mode": {
    "name": "ipython",
    "version": 3
   },
   "file_extension": ".py",
   "mimetype": "text/x-python",
   "name": "python",
   "nbconvert_exporter": "python",
   "pygments_lexer": "ipython3",
   "version": "3.9.16"
  }
 },
 "nbformat": 4,
 "nbformat_minor": 5
}
