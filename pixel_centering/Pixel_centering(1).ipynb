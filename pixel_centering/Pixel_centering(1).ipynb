{
 "cells": [
  {
   "cell_type": "code",
   "execution_count": 1,
   "id": "f1cad2e2",
   "metadata": {},
   "outputs": [
    {
     "name": "stdout",
     "output_type": "stream",
     "text": [
      "PNG\n",
      "L\n",
      "(224, 224)\n"
     ]
    }
   ],
   "source": [
    "# load and show an image with Pillow\n",
    "from PIL import Image\n",
    "import os\n",
    "# load the image\n",
    "image = Image.open(\"E:/Research_medical/dataset_medial/train/4_severe/9053047L.png\")\n",
    "# summarize some details about the image\n",
    "print(image.format)\n",
    "print(image.mode)\n",
    "print(image.size)\n",
    "# show the image\n",
    "image.show()"
   ]
  },
  {
   "cell_type": "code",
   "execution_count": 2,
   "id": "4f9d0a6c",
   "metadata": {},
   "outputs": [
    {
     "name": "stdout",
     "output_type": "stream",
     "text": [
      "Data Type: uint8\n",
      "Min: 0.000, Max: 248.000\n",
      "Min: 0.000, Max: 0.973\n"
     ]
    }
   ],
   "source": [
    "# example of pixel normalization\n",
    "from numpy import asarray\n",
    "from PIL import Image\n",
    "# load image\n",
    "image = Image.open('E:/Research_medical/dataset_medial/train/4_severe/9053047L.png')\n",
    "pixels = asarray(image)\n",
    "# confirm pixel range is 0-255\n",
    "print('Data Type: %s' % pixels.dtype)\n",
    "print('Min: %.3f, Max: %.3f' % (pixels.min(), pixels.max()))\n",
    "# convert from integers to floats\n",
    "pixels = pixels.astype('float32')\n",
    "# normalize to the range 0-1\n",
    "pixels /= 255.0\n",
    "# confirm the normalization\n",
    "print('Min: %.3f, Max: %.3f' % (pixels.min(), pixels.max()))"
   ]
  },
  {
   "cell_type": "code",
   "execution_count": 3,
   "id": "2e382145",
   "metadata": {},
   "outputs": [
    {
     "name": "stdout",
     "output_type": "stream",
     "text": [
      "Mean: 108.303\n",
      "Min: 0.000, Max: 248.000\n",
      "Mean: -0.000\n",
      "Min: -108.303, Max: 139.697\n"
     ]
    }
   ],
   "source": [
    "# example of global centering (subtract mean)\n",
    "from numpy import asarray\n",
    "from PIL import Image\n",
    "# load image\n",
    "image = Image.open('E:/Research_medical/dataset_medial/train/4_severe/9053047L.png')\n",
    "pixels = asarray(image)\n",
    "# convert from integers to floats\n",
    "pixels = pixels.astype('float32')\n",
    "# calculate global mean\n",
    "mean = pixels.mean()\n",
    "print('Mean: %.3f' % mean)\n",
    "print('Min: %.3f, Max: %.3f' % (pixels.min(), pixels.max()))\n",
    "# global centering of pixels\n",
    "pixels = pixels - mean\n",
    "# confirm it had the desired effect\n",
    "mean = pixels.mean()\n",
    "print('Mean: %.3f' % mean)\n",
    "print('Min: %.3f, Max: %.3f' % (pixels.min(), pixels.max()))"
   ]
  },
  {
   "cell_type": "code",
   "execution_count": 4,
   "id": "2712a863",
   "metadata": {},
   "outputs": [
    {
     "name": "stdout",
     "output_type": "stream",
     "text": [
      "Means: 108.30339205994898\n",
      "Mins: 0.0, Maxs: 248.0\n",
      "Means: 1.5570192920918368e-06\n",
      "Mins: -108.30339, Maxs: 139.69661\n"
     ]
    }
   ],
   "source": [
    "# example of per-channel centering (subtract mean)\n",
    "from numpy import asarray\n",
    "from PIL import Image\n",
    "# load image\n",
    "image = Image.open('E:/Research_medical/dataset_medial/train/4_severe/9053047L.png')\n",
    "pixels = asarray(image)\n",
    "# convert from integers to floats\n",
    "pixels = pixels.astype('float32')\n",
    "# calculate per-channel means and standard deviations\n",
    "means = pixels.mean(axis=(0,1), dtype='float64')\n",
    "print('Means: %s' % means)\n",
    "print('Mins: %s, Maxs: %s' % (pixels.min(axis=(0,1)), pixels.max(axis=(0,1))))\n",
    "# per-channel centering of pixels\n",
    "pixels -= means\n",
    "# confirm it had the desired effect\n",
    "means = pixels.mean(axis=(0,1), dtype='float64')\n",
    "print('Means: %s' % means)\n",
    "print('Mins: %s, Maxs: %s' % (pixels.min(axis=(0,1)), pixels.max(axis=(0,1))))"
   ]
  },
  {
   "cell_type": "code",
   "execution_count": 5,
   "id": "33bfdcc5",
   "metadata": {},
   "outputs": [
    {
     "name": "stdout",
     "output_type": "stream",
     "text": [
      "Mean: 108.303, Standard Deviation: 77.086\n",
      "Mean: 0.000, Standard Deviation: 1.000\n"
     ]
    }
   ],
   "source": [
    "# example of global pixel standardization\n",
    "from numpy import asarray\n",
    "from PIL import Image\n",
    "# load image\n",
    "image = Image.open('E:/Research_medical/dataset_medial/train/4_severe/9053047L.png')\n",
    "pixels = asarray(image)\n",
    "# convert from integers to floats\n",
    "pixels = pixels.astype('float32')\n",
    "# calculate global mean and standard deviation\n",
    "mean, std = pixels.mean(), pixels.std()\n",
    "print('Mean: %.3f, Standard Deviation: %.3f' % (mean, std))\n",
    "# global standardization of pixels\n",
    "pixels = (pixels - mean) / std\n",
    "# confirm it had the desired effect\n",
    "mean, std = pixels.mean(), pixels.std()\n",
    "print('Mean: %.3f, Standard Deviation: %.3f' % (mean, std))"
   ]
  },
  {
   "cell_type": "code",
   "execution_count": 6,
   "id": "dc36d282",
   "metadata": {},
   "outputs": [
    {
     "name": "stdout",
     "output_type": "stream",
     "text": [
      "Mean: 108.303, Standard Deviation: 77.086\n",
      "Mean: 0.487, Standard Deviation: 0.397\n",
      "Min: 0.000, Max: 1.000\n"
     ]
    }
   ],
   "source": [
    "# example of global pixel standardization shifted to positive domain\n",
    "from numpy import asarray\n",
    "from numpy import clip\n",
    "from PIL import Image\n",
    "# load image\n",
    "image = Image.open('E:/Research_medical/dataset_medial/train/4_severe/9053047L.png')\n",
    "pixels = asarray(image)\n",
    "# convert from integers to floats\n",
    "pixels = pixels.astype('float32')\n",
    "# calculate global mean and standard deviation\n",
    "mean, std = pixels.mean(), pixels.std()\n",
    "print('Mean: %.3f, Standard Deviation: %.3f' % (mean, std))\n",
    "# global standardization of pixels\n",
    "pixels = (pixels - mean) / std\n",
    "# clip pixel values to [-1,1]\n",
    "pixels = clip(pixels, -1.0, 1.0)\n",
    "# shift from [-1,1] to [0,1] with 0.5 mean\n",
    "pixels = (pixels + 1.0) / 2.0\n",
    "# confirm it had the desired effect\n",
    "mean, std = pixels.mean(), pixels.std()\n",
    "print('Mean: %.3f, Standard Deviation: %.3f' % (mean, std))\n",
    "print('Min: %.3f, Max: %.3f' % (pixels.min(), pixels.max()))"
   ]
  },
  {
   "cell_type": "code",
   "execution_count": 13,
   "id": "502573e6",
   "metadata": {},
   "outputs": [
    {
     "name": "stdout",
     "output_type": "stream",
     "text": [
      "Means: 147.3629823022959, Stds: 62.233278133752236\n",
      "Means: 9.947631710650855e-08, Stds: 1.0000000269553444\n"
     ]
    }
   ],
   "source": [
    "# example of per-channel pixel standardization\n",
    "from numpy import asarray\n",
    "from PIL import Image\n",
    "# load image\n",
    "image = Image.open('E:/Desktop/test-image/9065272L.png')\n",
    "pixels = asarray(image)\n",
    "# convert from integers to floats\n",
    "pixels = pixels.astype('float32')\n",
    "# calculate per-channel means and standard deviations\n",
    "means = pixels.mean(axis=(0,1), dtype='float64')\n",
    "stds = pixels.std(axis=(0,1), dtype='float64')\n",
    "print('Means: %s, Stds: %s' % (means, stds))\n",
    "# per-channel standardization of pixels\n",
    "pixels = (pixels - means) / stds\n",
    "# confirm it had the desired effect\n",
    "means = pixels.mean(axis=(0,1), dtype='float64')\n",
    "stds = pixels.std(axis=(0,1), dtype='float64')\n",
    "print('Means: %s, Stds: %s' % (means, stds))\n",
    "\n",
    "image.show()\n",
    "image.save('E:/Desktop/test-image/scaled_image2.jpg')"
   ]
  },
  {
   "cell_type": "code",
   "execution_count": 11,
   "id": "5d0186d1",
   "metadata": {},
   "outputs": [],
   "source": [
    "import numpy as np\n",
    "from PIL import Image\n",
    "\n",
    "# Load the image\n",
    "img = Image.open('E:/Desktop/test-image/9065272L.png')\n",
    "\n",
    "# Convert the image to a numpy array\n",
    "img_array = np.asarray(img)\n",
    "\n",
    "# Scale the pixel values to the range [0, 1]\n",
    "scaled_array = (img_array - np.min(img_array)) / (np.max(img_array) - np.min(img_array))\n",
    "\n",
    "# Convert the scaled array back to an image\n",
    "scaled_img = Image.fromarray(np.uint8(scaled_array*255))\n",
    "\n",
    "# Save the scaled image\n",
    "scaled_img.save('E:/Desktop/test-image/scaled_image.jpg')\n"
   ]
  },
  {
   "cell_type": "code",
   "execution_count": null,
   "id": "5ced33a8",
   "metadata": {},
   "outputs": [],
   "source": []
  }
 ],
 "metadata": {
  "kernelspec": {
   "display_name": "Python 3 (ipykernel)",
   "language": "python",
   "name": "python3"
  },
  "language_info": {
   "codemirror_mode": {
    "name": "ipython",
    "version": 3
   },
   "file_extension": ".py",
   "mimetype": "text/x-python",
   "name": "python",
   "nbconvert_exporter": "python",
   "pygments_lexer": "ipython3",
   "version": "3.9.16"
  }
 },
 "nbformat": 4,
 "nbformat_minor": 5
}
