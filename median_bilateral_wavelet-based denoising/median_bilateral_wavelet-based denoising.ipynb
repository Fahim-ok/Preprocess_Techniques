{
 "cells": [
  {
   "cell_type": "code",
   "execution_count": null,
   "id": "979850b5",
   "metadata": {},
   "outputs": [],
   "source": [
    "import cv2\n",
    "import numpy as np\n",
    "import pywt\n",
    "\n",
    "# Load the image from the dataset\n",
    "image = cv2.imread(\"E:/Desktop/test-image/median_bilateral_wavelet-based denoising/9585931R.png\", cv2.IMREAD_COLOR)\n",
    "\n",
    "# Apply Median Filtering\n",
    "median_filtered_image = cv2.medianBlur(image, 5)\n",
    "\n",
    "# Apply Bilateral Filtering\n",
    "bilateral_filtered_image = cv2.bilateralFilter(image, 9, 75, 75)\n",
    "\n",
    "# Apply Wavelet-based Denoising\n",
    "def wavelet_denoising(image):\n",
    "    # Convert the image to grayscale\n",
    "    gray = cv2.cvtColor(image, cv2.COLOR_BGR2GRAY)\n",
    "    \n",
    "    # Perform wavelet decomposition\n",
    "    coeffs = pywt.dwt2(gray, 'haar')\n",
    "    cA, (cH, cV, cD) = coeffs\n",
    "    \n",
    "    # Set a threshold value to denoise the coefficients\n",
    "    threshold = 20\n",
    "    \n",
    "    # Apply soft thresholding to the detail coefficients (cH, cV, cD)\n",
    "    denoised_coeffs = (cA, (pywt.threshold(cH, threshold), pywt.threshold(cV, threshold), pywt.threshold(cD, threshold)))\n",
    "    \n",
    "    # Perform inverse wavelet transform\n",
    "    denoised_gray = pywt.idwt2(denoised_coeffs, 'haar')\n",
    "    \n",
    "    # Convert the denoised grayscale image back to color\n",
    "    denoised_image = cv2.cvtColor(np.uint8(denoised_gray), cv2.COLOR_GRAY2BGR)\n",
    "    \n",
    "    return denoised_image\n",
    "\n",
    "wavelet_denoised_image = wavelet_denoising(image)\n",
    "\n",
    "# Display the original and processed images\n",
    "cv2.imshow(\"Original Image\", image)\n",
    "cv2.imshow(\"Median Filtering\", median_filtered_image)\n",
    "cv2.imshow(\"Bilateral Filtering\", bilateral_filtered_image)\n",
    "cv2.imshow(\"Wavelet-based Denoising\", wavelet_denoised_image)\n",
    "cv2.waitKey(0)\n",
    "cv2.destroyAllWindows()\n"
   ]
  },
  {
   "cell_type": "code",
   "execution_count": null,
   "id": "044c6070",
   "metadata": {},
   "outputs": [],
   "source": []
  },
  {
   "cell_type": "code",
   "execution_count": null,
   "id": "c8e50ac1",
   "metadata": {},
   "outputs": [],
   "source": []
  }
 ],
 "metadata": {
  "kernelspec": {
   "display_name": "Python 3 (ipykernel)",
   "language": "python",
   "name": "python3"
  },
  "language_info": {
   "codemirror_mode": {
    "name": "ipython",
    "version": 3
   },
   "file_extension": ".py",
   "mimetype": "text/x-python",
   "name": "python",
   "nbconvert_exporter": "python",
   "pygments_lexer": "ipython3",
   "version": "3.9.16"
  }
 },
 "nbformat": 4,
 "nbformat_minor": 5
}
